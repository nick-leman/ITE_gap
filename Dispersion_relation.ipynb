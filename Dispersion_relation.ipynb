{
  "nbformat": 4,
  "nbformat_minor": 0,
  "metadata": {
    "colab": {
      "provenance": []
    },
    "kernelspec": {
      "name": "python3",
      "display_name": "Python 3"
    },
    "language_info": {
      "name": "python"
    }
  },
  "cells": [
    {
      "cell_type": "markdown",
      "source": [
        "This notebook was used to obtain the Figure 11.\n",
        "\n",
        "It modifies the code of the previous notebooks to obtain the dispersion relation."
      ],
      "metadata": {
        "id": "34E-cqj0J0_o"
      }
    },
    {
      "cell_type": "code",
      "execution_count": null,
      "metadata": {
        "colab": {
          "base_uri": "https://localhost:8080/"
        },
        "id": "QE2RsDNsf2hD",
        "outputId": "ca69052a-869e-462e-9999-66f2e17ed33d"
      },
      "outputs": [
        {
          "output_type": "stream",
          "name": "stdout",
          "text": [
            "Collecting pennylane\n",
            "  Downloading PennyLane-0.34.0-py3-none-any.whl (1.6 MB)\n",
            "\u001b[2K     \u001b[90m━━━━━━━━━━━━━━━━━━━━━━━━━━━━━━━━━━━━━━━━\u001b[0m \u001b[32m1.6/1.6 MB\u001b[0m \u001b[31m7.8 MB/s\u001b[0m eta \u001b[36m0:00:00\u001b[0m\n",
            "\u001b[?25hRequirement already satisfied: numpy in /usr/local/lib/python3.10/dist-packages (from pennylane) (1.25.2)\n",
            "Requirement already satisfied: scipy in /usr/local/lib/python3.10/dist-packages (from pennylane) (1.11.4)\n",
            "Requirement already satisfied: networkx in /usr/local/lib/python3.10/dist-packages (from pennylane) (3.2.1)\n",
            "Collecting rustworkx (from pennylane)\n",
            "  Downloading rustworkx-0.14.0-cp310-cp310-manylinux_2_17_x86_64.manylinux2014_x86_64.whl (2.2 MB)\n",
            "\u001b[2K     \u001b[90m━━━━━━━━━━━━━━━━━━━━━━━━━━━━━━━━━━━━━━━━\u001b[0m \u001b[32m2.2/2.2 MB\u001b[0m \u001b[31m15.8 MB/s\u001b[0m eta \u001b[36m0:00:00\u001b[0m\n",
            "\u001b[?25hRequirement already satisfied: autograd in /usr/local/lib/python3.10/dist-packages (from pennylane) (1.6.2)\n",
            "Requirement already satisfied: toml in /usr/local/lib/python3.10/dist-packages (from pennylane) (0.10.2)\n",
            "Requirement already satisfied: appdirs in /usr/local/lib/python3.10/dist-packages (from pennylane) (1.4.4)\n",
            "Collecting semantic-version>=2.7 (from pennylane)\n",
            "  Downloading semantic_version-2.10.0-py2.py3-none-any.whl (15 kB)\n",
            "Collecting autoray>=0.6.1 (from pennylane)\n",
            "  Downloading autoray-0.6.8-py3-none-any.whl (49 kB)\n",
            "\u001b[2K     \u001b[90m━━━━━━━━━━━━━━━━━━━━━━━━━━━━━━━━━━━━━━━━\u001b[0m \u001b[32m49.9/49.9 kB\u001b[0m \u001b[31m6.3 MB/s\u001b[0m eta \u001b[36m0:00:00\u001b[0m\n",
            "\u001b[?25hRequirement already satisfied: cachetools in /usr/local/lib/python3.10/dist-packages (from pennylane) (5.3.2)\n",
            "Collecting pennylane-lightning>=0.34 (from pennylane)\n",
            "  Downloading PennyLane_Lightning-0.34.0-cp310-cp310-manylinux_2_17_x86_64.manylinux2014_x86_64.whl (18.1 MB)\n",
            "\u001b[2K     \u001b[90m━━━━━━━━━━━━━━━━━━━━━━━━━━━━━━━━━━━━━━━━\u001b[0m \u001b[32m18.1/18.1 MB\u001b[0m \u001b[31m36.8 MB/s\u001b[0m eta \u001b[36m0:00:00\u001b[0m\n",
            "\u001b[?25hRequirement already satisfied: requests in /usr/local/lib/python3.10/dist-packages (from pennylane) (2.31.0)\n",
            "Requirement already satisfied: typing-extensions in /usr/local/lib/python3.10/dist-packages (from pennylane) (4.9.0)\n",
            "Requirement already satisfied: future>=0.15.2 in /usr/local/lib/python3.10/dist-packages (from autograd->pennylane) (0.18.3)\n",
            "Requirement already satisfied: charset-normalizer<4,>=2 in /usr/local/lib/python3.10/dist-packages (from requests->pennylane) (3.3.2)\n",
            "Requirement already satisfied: idna<4,>=2.5 in /usr/local/lib/python3.10/dist-packages (from requests->pennylane) (3.6)\n",
            "Requirement already satisfied: urllib3<3,>=1.21.1 in /usr/local/lib/python3.10/dist-packages (from requests->pennylane) (2.0.7)\n",
            "Requirement already satisfied: certifi>=2017.4.17 in /usr/local/lib/python3.10/dist-packages (from requests->pennylane) (2024.2.2)\n",
            "Installing collected packages: semantic-version, rustworkx, autoray, pennylane-lightning, pennylane\n",
            "Successfully installed autoray-0.6.8 pennylane-0.34.0 pennylane-lightning-0.34.0 rustworkx-0.14.0 semantic-version-2.10.0\n",
            "Requirement already satisfied: matplotlib in /usr/local/lib/python3.10/dist-packages (3.7.1)\n",
            "Requirement already satisfied: contourpy>=1.0.1 in /usr/local/lib/python3.10/dist-packages (from matplotlib) (1.2.0)\n",
            "Requirement already satisfied: cycler>=0.10 in /usr/local/lib/python3.10/dist-packages (from matplotlib) (0.12.1)\n",
            "Requirement already satisfied: fonttools>=4.22.0 in /usr/local/lib/python3.10/dist-packages (from matplotlib) (4.49.0)\n",
            "Requirement already satisfied: kiwisolver>=1.0.1 in /usr/local/lib/python3.10/dist-packages (from matplotlib) (1.4.5)\n",
            "Requirement already satisfied: numpy>=1.20 in /usr/local/lib/python3.10/dist-packages (from matplotlib) (1.25.2)\n",
            "Requirement already satisfied: packaging>=20.0 in /usr/local/lib/python3.10/dist-packages (from matplotlib) (23.2)\n",
            "Requirement already satisfied: pillow>=6.2.0 in /usr/local/lib/python3.10/dist-packages (from matplotlib) (9.4.0)\n",
            "Requirement already satisfied: pyparsing>=2.3.1 in /usr/local/lib/python3.10/dist-packages (from matplotlib) (3.1.1)\n",
            "Requirement already satisfied: python-dateutil>=2.7 in /usr/local/lib/python3.10/dist-packages (from matplotlib) (2.8.2)\n",
            "Requirement already satisfied: six>=1.5 in /usr/local/lib/python3.10/dist-packages (from python-dateutil>=2.7->matplotlib) (1.16.0)\n"
          ]
        }
      ],
      "source": [
        "%pip install pennylane\n",
        "%pip install matplotlib"
      ]
    },
    {
      "cell_type": "code",
      "source": [
        "import matplotlib.pyplot as plt\n",
        "import pennylane as qml\n",
        "import pennylane.numpy as np"
      ],
      "metadata": {
        "id": "ml-qF883f8B9"
      },
      "execution_count": null,
      "outputs": []
    },
    {
      "cell_type": "markdown",
      "source": [
        "Functions to prepare the state and evolve it in the imaginary time."
      ],
      "metadata": {
        "id": "kyKamZ4AUUGt"
      }
    },
    {
      "cell_type": "code",
      "source": [
        "#Trotter for Ising\n",
        "sigma_z = np.array([[1.0, 0.0], [0.0, -1.0]])\n",
        "sigma_x = np.array([[0.0, 1.0], [1.0, 0.0]])\n",
        "sigma_y = np.array([[0.0, -1j], [1j, 0.0]])\n",
        "W = np.array([[1.0, -1j], [1.0, 1j]])/np.sqrt(2.)\n",
        "\n",
        "def Ising_U(dt, J, h):\n",
        "  \"\"\"\n",
        "  Returns the unitary matrix for the Ising Trotterization.\n",
        "\n",
        "  Args:\n",
        "    dt (np.float): Trotter time step;\n",
        "    J (np.float) : the coefficient of the interaction term in the Ising Hamiltonian.\n",
        "    h (np.float) : the coefficient of the transverse magnetic field term.\n",
        "\n",
        "  Returns:\n",
        "     U - unitary matrix used in Trotter evolution on two neighbour sites.\n",
        "  \"\"\"\n",
        "  H = -J*np.einsum(\"ij, kl -> ikjl\", sigma_z, sigma_z)\n",
        "  H -= h*np.einsum(\"ij, kl -> ikjl\", sigma_x, np.eye(2))/2\n",
        "  H -= h*np.einsum(\"ij, kl -> ikjl\", np.eye(2), sigma_x)/2\n",
        "  H = np.reshape(H, [4,4])\n",
        "  d, V = np.linalg.eigh(H)\n",
        "  U = np.einsum(\"ij, j, kj -> ik\", V, np.exp(-1j*dt*d), V)\n",
        "  return U\n",
        "\n",
        "def Trotter_Ising(dt, J, h, wqubits):\n",
        "  \"\"\"\n",
        "  Applies Trotterized evolution with Ising Hamiltonian in real time.\n",
        "  Note, that wqubits should be even.\n",
        "\n",
        "  Args:\n",
        "    dt (np.float): Trotter time step;\n",
        "    J (np.float) : the coefficient of the interaction term in the Ising Hamiltonian.\n",
        "    h (np.float) : the coefficient of the transverse magnetic field term in X direction.\n",
        "    wqubits (np.int) : number of physical (without ancilla) qubits\n",
        "\n",
        "  \"\"\"\n",
        "  N = wqubits//2\n",
        "  U = Ising_U(dt, J, h)\n",
        "  for q in range(N):\n",
        "    qml.QubitUnitary(U, wires = [2*q,2*q+1])\n",
        "  for q in range(N-1):\n",
        "    qml.QubitUnitary(U, wires = [2*q+1,2*q+2])\n",
        "  qml.QubitUnitary(U, wires = [wqubits-1, 0])\n",
        "\n",
        "\n",
        "@qml.defer_measurements\n",
        "def imaginary_time_step_Ising(dt, J, h, nqubits, theta0):\n",
        "  \"\"\"\n",
        "  Applies one step of Trotterized evolution with Ising Hamiltonian in imaginery time.\n",
        "  Note, that nqubits should be odd.\n",
        "\n",
        "  Args:\n",
        "    dt (np.float): Trotter time step of real time evolution;\n",
        "    J (np.float) : the coefficient of the interaction term in the Ising Hamiltonian.\n",
        "    h (np.float) : the coefficient of the transverse magnetic field term in X direction.\n",
        "    nqubits (np.int): total number of qubits, both physical and one (last) ancilla qubit.\n",
        "    theta0 (np.float): the angle of the Rz gate, as defined in arXiv:2111.12471\n",
        "  \"\"\"\n",
        "  wqubits = nqubits - 1\n",
        "  qml.Hadamard(wires = [nqubits-1])\n",
        "  qml.QubitUnitary(W, wires = [nqubits-1])\n",
        "  qml.ctrl(Trotter_Ising, [nqubits-1], control_values = [0])(dt, J, h, wqubits)\n",
        "  qml.ctrl(qml.adjoint(Trotter_Ising), [nqubits-1], control_values = [1])(dt, J, h, wqubits)\n",
        "  qml.RZ(-2*theta0, wires = [nqubits-1])\n",
        "  qml.adjoint(qml.QubitUnitary(W, wires = [nqubits-1]))\n",
        "  qml.measure(wires = [nqubits-1], postselect = 0)\n",
        "\n",
        "def imaginary_time_evolution_Ising(steps, m0, J, h, nqubits):\n",
        "  \"\"\"\n",
        "  Applies Trotterized evolution with Ising Hamiltonian in imaginery time.\n",
        "  steps controls the Trotter time steps.\n",
        "  Note, that nqubits should be odd.\n",
        "\n",
        "    Args:\n",
        "    steps (np.array): array of Trotter time steps for imaginary time evolution;\n",
        "    m0 (np.float) : auxiliary number as defined in arXiv:2111.12471\n",
        "    J (np.float) : the coefficient of the interaction term in the Ising Hamiltonian.\n",
        "    h (np.float) : the coefficient of the transverse magnetic field term in X direction.\n",
        "    nqubits (np.int): total number of qubits, both physical and one (last) ancilla qubit.\n",
        "  \"\"\"\n",
        "  s = m0/np.sqrt(1-m0**2)\n",
        "  dtau = steps*s\n",
        "  kappa = np.sign(m0 - 1./np.sqrt(2))\n",
        "  theta0 = kappa*np.arccos((m0 + np.sqrt(1-m0**2))/np.sqrt(2))\n",
        "\n",
        "  for c in range(len(steps)):\n",
        "    dt = dtau[c]\n",
        "    imaginary_time_step_Ising(dt, J, h, nqubits, theta0)\n",
        "\n",
        "def state_prep(nqubits):\n",
        "  \"\"\"\n",
        "  Prepares the initial product state.\n",
        "  You can freely change this state, it will not influence the results.\n",
        "\n",
        "  Args:\n",
        "    nqubits (np.int): total number of qubits, both physical and one (last) ancilla qubit.\n",
        "  \"\"\"\n",
        "  wqubits = nqubits - 1\n",
        "  phi_init = 0.3 + 0.04*np.arange(wqubits)\n",
        "  for q in range(wqubits):\n",
        "    qml.Hadamard(wires = [q])\n",
        "    qml.RY(phi_init[q], wires = [q])\n",
        "\n",
        "\n",
        "#Trotter for XXZ"
      ],
      "metadata": {
        "id": "bxHYJsqqgurd"
      },
      "execution_count": null,
      "outputs": []
    },
    {
      "cell_type": "code",
      "source": [
        "Nqubits = 7         #Number of qubits.\n",
        "#Note, that one qubit is ancilla. Hence, the physical model is defined in\n",
        "#Nqubits-1 qubits.\n",
        "dev = qml.device(\"default.qubit\", wires=Nqubits)"
      ],
      "metadata": {
        "id": "YpE6E3D090qZ"
      },
      "execution_count": null,
      "outputs": []
    },
    {
      "cell_type": "markdown",
      "source": [
        "Functions for the imaginery time evolution, computation of energy, magnetization, and for subsequent dispersion relation computation."
      ],
      "metadata": {
        "id": "3Sq3HeFNVqbC"
      }
    },
    {
      "cell_type": "code",
      "source": [
        "@qml.qnode(dev)\n",
        "def test_circuit(steps, m0, J, h, nqubits):\n",
        "  \"\"\"\n",
        "  Prepares the state, applies Trotterized evolution with Ising Hamiltonian in imaginery time.\n",
        "  steps controls the Trotter time steps.\n",
        "  Note, that nqubits should be odd.\n",
        "\n",
        "  Args:\n",
        "    steps (np.array): array of Trotter time steps for imaginary time evolution;\n",
        "    m0 (np.float) : auxiliary number as defined in arXiv:2111.12471\n",
        "    J (np.float) : the coefficient of the interaction term in the Ising Hamiltonian.\n",
        "    h (np.float) : the coefficient of the transverse magnetic field term in X direction.\n",
        "    nqubits (np.int): total number of qubits, both physical and one (last) ancilla qubit.\n",
        "\n",
        "  Returns:\n",
        "    density_matrix - density matrix of the system on the physical qubits.\n",
        "  \"\"\"\n",
        "  state_prep(nqubits)\n",
        "  imaginary_time_evolution_Ising(steps, m0, J, h, nqubits)\n",
        "  return qml.density_matrix(wires = range(nqubits-1))\n",
        "\n",
        "@qml.qnode(dev)\n",
        "def test_energy(steps, m0, J, h, nqubits):\n",
        "  \"\"\"\n",
        "  Finds the ground state energy with imaginary time evolution.\n",
        "  Prepares the state and Hamiltonian. Evolves the state in imaginary time.\n",
        "  Measures the Hamiltonian.\n",
        "\n",
        "  Args:\n",
        "    steps (np.array): array of Trotter time steps for imaginary time evolution;\n",
        "    m0 (np.float) : auxiliary number as defined in arXiv:2111.12471\n",
        "    J (np.float) : the coefficient of the interaction term in the Ising Hamiltonian.\n",
        "    h (np.float) : the coefficient of the transverse magnetic field term in X direction.\n",
        "    nqubits (np.int): total number of qubits, both physical and one (last) ancilla qubit.\n",
        "\n",
        "  Returns:\n",
        "    expval(H) - expectation value of the Ising Hamiltonian.\n",
        "  \"\"\"\n",
        "  ZZ = [qml.PauliZ(i)@qml.PauliZ((i+1)%(nqubits-1)) for i in range(nqubits-1)]\n",
        "  ZZ_coeff = [-J for i in range(nqubits-1)]\n",
        "  X = [qml.PauliX(i) for i in range(nqubits-1)]\n",
        "  X_coeff = [-h for i in range(nqubits-1)]\n",
        "\n",
        "  obs = ZZ + X\n",
        "  coeffs = ZZ_coeff + X_coeff\n",
        "  H = qml.Hamiltonian(coeffs, obs, grouping_type=\"qwc\")\n",
        "  state_prep(nqubits)\n",
        "  imaginary_time_evolution_Ising(steps, m0, J, h, nqubits)\n",
        "  return qml.expval(H)\n",
        "\n",
        "\n",
        "def gap_operators(steps, m0, J, h, nqubits, k=0):\n",
        "  \"\"\"\n",
        "\n",
        "  Finds the [H,O] expectation value.\n",
        "  O = \\sum_{j} \\exp{i(2 pi k/L)j} \\sigma_{j}^{y}\n",
        "  Two such expectations for different imaginary times can be used to estimate\n",
        "  the gap, where L = nqubits - 1\n",
        "\n",
        "  Args:\n",
        "    steps (np.array): array of Trotter time steps for imaginary time evolution;\n",
        "    m0 (np.float) : auxiliary number as defined in arXiv:2111.12471\n",
        "    J (np.float) : the coefficient of the interaction term in the Ising Hamiltonian.\n",
        "    h (np.float) : the coefficient of the transverse magnetic field term in X direction.\n",
        "    nqubits (np.int): total number of qubits, both physical and one (last) ancilla qubit.\n",
        "    k (np.int) : integer representation in range(L) of the quasimomentum sector.\n",
        "\n",
        "  Returns:\n",
        "    expt_HO - expectation value of the commutator [H,O] for the final time.\n",
        "  \"\"\"\n",
        "  rdm = test_circuit(steps, m0, J, h, nqubits)\n",
        "  K = 2*np.pi*k/(nqubits-1)\n",
        "  obs = []\n",
        "  coeffs = []\n",
        "  for c in range(nqubits - 1):\n",
        "    obs += [qml.PauliZ(c), qml.PauliX(c)@qml.PauliZ((c+1)%(nqubits-1)), qml.PauliZ((c-1)%(nqubits-1))@qml.PauliX(c)]\n",
        "    coeffs += [-h*np.cos(K*c), J*np.cos(K*c), J*np.cos(K*c)]\n",
        "  HO = qml.Hamiltonian(coeffs, obs, grouping_type=\"qwc\")\n",
        "  HOm = HO.sparse_matrix().todense()\n",
        "  expt_HO = np.einsum(\"ij,ji ->\", HOm, rdm)\n",
        "\n",
        "  return expt_HO\n",
        "\n"
      ],
      "metadata": {
        "id": "uwFmM76sE6FT"
      },
      "execution_count": null,
      "outputs": []
    },
    {
      "cell_type": "markdown",
      "source": [
        "Model initialization:"
      ],
      "metadata": {
        "id": "DsWXMEER_OjU"
      }
    },
    {
      "cell_type": "code",
      "source": [
        "J = 0.4\n",
        "h = 1.0"
      ],
      "metadata": {
        "id": "Be9Ua02f_GYq"
      },
      "execution_count": null,
      "outputs": []
    },
    {
      "cell_type": "markdown",
      "source": [
        "Classical computation of the energy levels for comparison:"
      ],
      "metadata": {
        "id": "0nDK_NQp_SPV"
      }
    },
    {
      "cell_type": "code",
      "source": [
        "ZZ = [qml.PauliZ(i)@qml.PauliZ((i+1)%(Nqubits-1)) for i in range(Nqubits-1)]\n",
        "ZZ_coeff = [-J for i in range(Nqubits-1)]\n",
        "X = [qml.PauliX(i) for i in range(Nqubits-1)]\n",
        "X_coeff = [-h for i in range(Nqubits-1)]\n",
        "\n",
        "obs = ZZ + X\n",
        "coeffs = ZZ_coeff + X_coeff\n",
        "H = qml.Hamiltonian(coeffs, obs, grouping_type=\"qwc\")\n",
        "\n",
        "Hs = H.sparse_matrix()\n",
        "M = Hs.todense()\n",
        "d = np.sort(np.real(np.linalg.eigvals(M)))"
      ],
      "metadata": {
        "id": "wYfiHJEttTho"
      },
      "execution_count": null,
      "outputs": []
    },
    {
      "cell_type": "markdown",
      "source": [
        "Let us start computing the dispersion relation. For this we make computations for different wave-vectors $k$:"
      ],
      "metadata": {
        "id": "R4c5-f43bGc6"
      }
    },
    {
      "cell_type": "code",
      "source": [
        "nsteps = 120\n",
        "step1 = 0.02       #Large time step for preliminary optimization\n",
        "dispersion = []\n",
        "m0 = 0.8\n",
        "\n",
        "for kx in range(Nqubits-1):\n",
        "  steps = step1*np.ones(nsteps)\n",
        "  est1 = gap_operators(steps, m0, J, h, Nqubits, k = kx)\n",
        "\n",
        "  step2 = 0.002      #Small time step for gap extraction.\n",
        "  steps1 = np.append(steps, step2)\n",
        "  est2 = gap_operators(steps1, m0, J, h, Nqubits, k =kx)\n",
        "\n",
        "  gap = -np.log(np.abs(est2/est1))/step2\n",
        "\n",
        "\n",
        "  step2 = 0.001      #Small time step for gap extraction.\n",
        "  steps2 = np.append(steps, step2)\n",
        "  est3 = gap_operators(steps2, m0, J, h, Nqubits, k =kx)\n",
        "\n",
        "  gap2 = -np.log(np.abs(est3/est1))/step2\n",
        "  gap_extrapolated = gap2 + (gap2 - gap)\n",
        "  dispersion.append(gap_extrapolated)"
      ],
      "metadata": {
        "id": "3Y-wz1vwgDA1"
      },
      "execution_count": null,
      "outputs": []
    },
    {
      "cell_type": "markdown",
      "source": [
        "Let us compare the obtained single excitation gaps with different $k$ with the exact results:"
      ],
      "metadata": {
        "id": "915HxMywCkZi"
      }
    },
    {
      "cell_type": "code",
      "source": [
        "print(\"The simulation results are:\")\n",
        "print(np.sort(dispersion))\n",
        "print(\"The exact classical results are:\")\n",
        "gap_exact = d - d[0]\n",
        "print(gap_exact[1:7])"
      ],
      "metadata": {
        "colab": {
          "base_uri": "https://localhost:8080/"
        },
        "id": "WC-YWuv_z4--",
        "outputId": "03862968-ec61-48c9-d115-4fb848e2d7c5"
      },
      "execution_count": null,
      "outputs": [
        {
          "output_type": "stream",
          "name": "stdout",
          "text": [
            "The simulation results are:\n",
            "[1.19196353 1.73876899 1.73876899 2.49345402 2.49345402 2.79603826]\n",
            "The exact classical results are:\n",
            "[1.20188487 1.74544444 1.74544444 2.49988407 2.49988407 2.73402173]\n"
          ]
        }
      ]
    },
    {
      "cell_type": "code",
      "source": [
        "gap = np.zeros(6)\n",
        "gap[0] = gap_exact[1]\n",
        "gap[1] = gap_exact[2]\n",
        "gap[2] = gap_exact[4]\n",
        "gap[3] = gap_exact[6]\n",
        "gap[4] = gap_exact[5]\n",
        "gap[5] = gap_exact[3]"
      ],
      "metadata": {
        "id": "X1orSCNe1qHY"
      },
      "execution_count": null,
      "outputs": []
    },
    {
      "cell_type": "markdown",
      "source": [
        "Plotting the dispersion relation: (Figure 11)"
      ],
      "metadata": {
        "id": "ZomRuJSc4NFF"
      }
    },
    {
      "cell_type": "code",
      "source": [
        "plt.plot(2*np.pi*np.arange(Nqubits-1)/(Nqubits-1), dispersion,'bo',label = \"ITE\")\n",
        "plt.plot(2*np.pi*np.arange(Nqubits-1)/(Nqubits-1), gap,'rh',label = \"ED\", markersize = 4)\n",
        "plt.legend()\n",
        "plt.ylabel(\"E(k)\")\n",
        "plt.xlabel(\"k\")\n",
        "plt.title(\"J=0.4, h = 1.0, L = 6\")\n",
        "plt.savefig(\"Dispersion_relation.pdf\")"
      ],
      "metadata": {
        "colab": {
          "base_uri": "https://localhost:8080/",
          "height": 472
        },
        "id": "72mAFEmcE4qQ",
        "outputId": "65b7a778-b8b7-4a7d-cb49-56ba4e51232e"
      },
      "execution_count": null,
      "outputs": [
        {
          "output_type": "display_data",
          "data": {
            "text/plain": [
              "<Figure size 640x480 with 1 Axes>"
            ],
            "image/png": "[encoded data removed]"
          },
          "metadata": {}
        }
      ]
    },
    {
      "cell_type": "markdown",
      "source": [
        "Here we have obtained the dispersion relation for Ising model with 6 spins."
      ],
      "metadata": {
        "id": "u-619H0NEy6-"
      }
    }
  ]
}