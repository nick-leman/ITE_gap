{
  "nbformat": 4,
  "nbformat_minor": 0,
  "metadata": {
    "colab": {
      "provenance": []
    },
    "kernelspec": {
      "name": "python3",
      "display_name": "Python 3"
    },
    "language_info": {
      "name": "python"
    }
  },
  "cells": [
    {
      "cell_type": "markdown",
      "source": [
        "This notebook generates data used in plots in \"Plot_first_gap.ipynb\"."
      ],
      "metadata": {
        "id": "G25l0lziaTFP"
      }
    },
    {
      "cell_type": "code",
      "execution_count": null,
      "metadata": {
        "colab": {
          "base_uri": "https://localhost:8080/"
        },
        "id": "QE2RsDNsf2hD",
        "outputId": "d648e7ab-f58e-4900-fe8e-fcb62eff4b78"
      },
      "outputs": [
        {
          "output_type": "stream",
          "name": "stdout",
          "text": [
            "Collecting pennylane\n",
            "  Downloading PennyLane-0.34.0-py3-none-any.whl (1.6 MB)\n",
            "\u001b[2K     \u001b[90m━━━━━━━━━━━━━━━━━━━━━━━━━━━━━━━━━━━━━━━━\u001b[0m \u001b[32m1.6/1.6 MB\u001b[0m \u001b[31m8.3 MB/s\u001b[0m eta \u001b[36m0:00:00\u001b[0m\n",
            "\u001b[?25hRequirement already satisfied: numpy in /usr/local/lib/python3.10/dist-packages (from pennylane) (1.25.2)\n",
            "Requirement already satisfied: scipy in /usr/local/lib/python3.10/dist-packages (from pennylane) (1.11.4)\n",
            "Requirement already satisfied: networkx in /usr/local/lib/python3.10/dist-packages (from pennylane) (3.2.1)\n",
            "Collecting rustworkx (from pennylane)\n",
            "  Downloading rustworkx-0.14.0-cp310-cp310-manylinux_2_17_x86_64.manylinux2014_x86_64.whl (2.2 MB)\n",
            "\u001b[2K     \u001b[90m━━━━━━━━━━━━━━━━━━━━━━━━━━━━━━━━━━━━━━━━\u001b[0m \u001b[32m2.2/2.2 MB\u001b[0m \u001b[31m16.4 MB/s\u001b[0m eta \u001b[36m0:00:00\u001b[0m\n",
            "\u001b[?25hRequirement already satisfied: autograd in /usr/local/lib/python3.10/dist-packages (from pennylane) (1.6.2)\n",
            "Requirement already satisfied: toml in /usr/local/lib/python3.10/dist-packages (from pennylane) (0.10.2)\n",
            "Requirement already satisfied: appdirs in /usr/local/lib/python3.10/dist-packages (from pennylane) (1.4.4)\n",
            "Collecting semantic-version>=2.7 (from pennylane)\n",
            "  Downloading semantic_version-2.10.0-py2.py3-none-any.whl (15 kB)\n",
            "Collecting autoray>=0.6.1 (from pennylane)\n",
            "  Downloading autoray-0.6.8-py3-none-any.whl (49 kB)\n",
            "\u001b[2K     \u001b[90m━━━━━━━━━━━━━━━━━━━━━━━━━━━━━━━━━━━━━━━━\u001b[0m \u001b[32m49.9/49.9 kB\u001b[0m \u001b[31m5.1 MB/s\u001b[0m eta \u001b[36m0:00:00\u001b[0m\n",
            "\u001b[?25hRequirement already satisfied: cachetools in /usr/local/lib/python3.10/dist-packages (from pennylane) (5.3.2)\n",
            "Collecting pennylane-lightning>=0.34 (from pennylane)\n",
            "  Downloading PennyLane_Lightning-0.34.0-cp310-cp310-manylinux_2_17_x86_64.manylinux2014_x86_64.whl (18.1 MB)\n",
            "\u001b[2K     \u001b[90m━━━━━━━━━━━━━━━━━━━━━━━━━━━━━━━━━━━━━━━━\u001b[0m \u001b[32m18.1/18.1 MB\u001b[0m \u001b[31m39.6 MB/s\u001b[0m eta \u001b[36m0:00:00\u001b[0m\n",
            "\u001b[?25hRequirement already satisfied: requests in /usr/local/lib/python3.10/dist-packages (from pennylane) (2.31.0)\n",
            "Requirement already satisfied: typing-extensions in /usr/local/lib/python3.10/dist-packages (from pennylane) (4.9.0)\n",
            "Requirement already satisfied: future>=0.15.2 in /usr/local/lib/python3.10/dist-packages (from autograd->pennylane) (0.18.3)\n",
            "Requirement already satisfied: charset-normalizer<4,>=2 in /usr/local/lib/python3.10/dist-packages (from requests->pennylane) (3.3.2)\n",
            "Requirement already satisfied: idna<4,>=2.5 in /usr/local/lib/python3.10/dist-packages (from requests->pennylane) (3.6)\n",
            "Requirement already satisfied: urllib3<3,>=1.21.1 in /usr/local/lib/python3.10/dist-packages (from requests->pennylane) (2.0.7)\n",
            "Requirement already satisfied: certifi>=2017.4.17 in /usr/local/lib/python3.10/dist-packages (from requests->pennylane) (2024.2.2)\n",
            "Installing collected packages: semantic-version, rustworkx, autoray, pennylane-lightning, pennylane\n",
            "Successfully installed autoray-0.6.8 pennylane-0.34.0 pennylane-lightning-0.34.0 rustworkx-0.14.0 semantic-version-2.10.0\n",
            "Requirement already satisfied: matplotlib in /usr/local/lib/python3.10/dist-packages (3.7.1)\n",
            "Requirement already satisfied: contourpy>=1.0.1 in /usr/local/lib/python3.10/dist-packages (from matplotlib) (1.2.0)\n",
            "Requirement already satisfied: cycler>=0.10 in /usr/local/lib/python3.10/dist-packages (from matplotlib) (0.12.1)\n",
            "Requirement already satisfied: fonttools>=4.22.0 in /usr/local/lib/python3.10/dist-packages (from matplotlib) (4.49.0)\n",
            "Requirement already satisfied: kiwisolver>=1.0.1 in /usr/local/lib/python3.10/dist-packages (from matplotlib) (1.4.5)\n",
            "Requirement already satisfied: numpy>=1.20 in /usr/local/lib/python3.10/dist-packages (from matplotlib) (1.25.2)\n",
            "Requirement already satisfied: packaging>=20.0 in /usr/local/lib/python3.10/dist-packages (from matplotlib) (23.2)\n",
            "Requirement already satisfied: pillow>=6.2.0 in /usr/local/lib/python3.10/dist-packages (from matplotlib) (9.4.0)\n",
            "Requirement already satisfied: pyparsing>=2.3.1 in /usr/local/lib/python3.10/dist-packages (from matplotlib) (3.1.1)\n",
            "Requirement already satisfied: python-dateutil>=2.7 in /usr/local/lib/python3.10/dist-packages (from matplotlib) (2.8.2)\n",
            "Requirement already satisfied: six>=1.5 in /usr/local/lib/python3.10/dist-packages (from python-dateutil>=2.7->matplotlib) (1.16.0)\n"
          ]
        }
      ],
      "source": [
        "%pip install pennylane\n",
        "%pip install matplotlib\n"
      ]
    },
    {
      "cell_type": "code",
      "source": [
        "import matplotlib.pyplot as plt\n",
        "import pennylane as qml\n",
        "import pennylane.numpy as np"
      ],
      "metadata": {
        "id": "ml-qF883f8B9"
      },
      "execution_count": null,
      "outputs": []
    },
    {
      "cell_type": "markdown",
      "source": [
        "Functions to prepare the state and evolve it in the imaginary time."
      ],
      "metadata": {
        "id": "kyKamZ4AUUGt"
      }
    },
    {
      "cell_type": "code",
      "source": [
        "#Trotter for Ising\n",
        "sigma_z = np.array([[1.0, 0.0], [0.0, -1.0]])\n",
        "sigma_x = np.array([[0.0, 1.0], [1.0, 0.0]])\n",
        "sigma_y = np.array([[0.0, -1j], [1j, 0.0]])\n",
        "W = np.array([[1.0, -1j], [1.0, 1j]])/np.sqrt(2.)\n",
        "\n",
        "def Ising_U(dt, J, h, hz):\n",
        "  \"\"\"\n",
        "  Returns the unitary matrix for the Ising Trotterization.\n",
        "\n",
        "  Args:\n",
        "    dt (np.float): Trotter time step;\n",
        "    J (np.float) : the coefficient of the interaction term in the Ising Hamiltonian.\n",
        "    h (np.float) : the coefficient of the transverse magnetic field term in X direction.\n",
        "    hz (np.float) : the coefficient of the transverse magnetic field term in Z direction.\n",
        "\n",
        "  Returns:\n",
        "     U - unitary matrix used in Trotter evolution on two neighbour sites.\n",
        "  \"\"\"\n",
        "  H = -J*np.einsum(\"ij, kl -> ikjl\", sigma_z, sigma_z)\n",
        "  H -= h*np.einsum(\"ij, kl -> ikjl\", sigma_x, np.eye(2))/2\n",
        "  H -= h*np.einsum(\"ij, kl -> ikjl\", np.eye(2), sigma_x)/2\n",
        "  H -= hz*np.einsum(\"ij, kl -> ikjl\", sigma_z, np.eye(2))/2\n",
        "  H -= hz*np.einsum(\"ij, kl -> ikjl\", np.eye(2), sigma_z)/2\n",
        "  H = np.reshape(H, [4,4])\n",
        "  d, V = np.linalg.eigh(H)\n",
        "  U = np.einsum(\"ij, j, kj -> ik\", V, np.exp(-1j*dt*d), V)\n",
        "  return U\n",
        "\n",
        "def Trotter_Ising(dt, J, h, hz, wqubits):\n",
        "  \"\"\"\n",
        "  Applies Trotterized evolution with Ising Hamiltonian in real time.\n",
        "  Note, that wqubits should be even.\n",
        "\n",
        "  Args:\n",
        "    dt (np.float): Trotter time step;\n",
        "    J (np.float) : the coefficient of the interaction term in the Ising Hamiltonian.\n",
        "    h (np.float) : the coefficient of the transverse magnetic field term in X direction.\n",
        "    hz (np.float) : the coefficient of the transverse magnetic field term in Z direction.\n",
        "    wqubits (np.int) : number of physical (without ancilla) qubits\n",
        "\n",
        "  \"\"\"\n",
        "  N = wqubits//2\n",
        "  U = Ising_U(dt, J, h, hz)\n",
        "  for q in range(N):\n",
        "    qml.QubitUnitary(U, wires = [2*q,2*q+1])\n",
        "  for q in range(N-1):\n",
        "    qml.QubitUnitary(U, wires = [2*q+1,2*q+2])\n",
        "  qml.QubitUnitary(U, wires = [wqubits-1, 0])\n",
        "\n",
        "\n",
        "@qml.defer_measurements\n",
        "def imaginary_time_step_Ising(dt, J, h,hz, nqubits, theta0):\n",
        "  \"\"\"\n",
        "  Applies one step of Trotterized evolution with Ising Hamiltonian in imaginery time.\n",
        "  Note, that wqubits should be even.\n",
        "\n",
        "    Args:\n",
        "    dt (np.float): Trotter time step of real time evolution;\n",
        "    J (np.float) : the coefficient of the interaction term in the Ising Hamiltonian.\n",
        "    h (np.float) : the coefficient of the transverse magnetic field term in X direction.\n",
        "    hz (np.float) : the coefficient of the transverse magnetic field term in Z direction.\n",
        "    nqubits (np.int): total number of qubits, both physical and one (last) ancilla qubit.\n",
        "    theta0 (np.float): the angle of the Rz gate, as defined in arXiv:2111.12471\n",
        "  \"\"\"\n",
        "  wqubits = nqubits - 1\n",
        "  qml.Hadamard(wires = [nqubits-1])\n",
        "  qml.QubitUnitary(W, wires = [nqubits-1])\n",
        "  qml.ctrl(Trotter_Ising, [nqubits-1], control_values = [0])(dt, J, h, hz, wqubits)\n",
        "  qml.ctrl(qml.adjoint(Trotter_Ising), [nqubits-1], control_values = [1])(dt, J, h, hz, wqubits)\n",
        "  qml.RZ(-2*theta0, wires = [nqubits-1])\n",
        "  qml.adjoint(qml.QubitUnitary(W, wires = [nqubits-1]))\n",
        "  qml.measure(wires = [nqubits-1], postselect = 0)\n",
        "\n",
        "def imaginary_time_evolution_Ising(steps, m0, J, h,hz, nqubits):\n",
        "  \"\"\"\n",
        "  Applies Trotterized evolution with Ising Hamiltonian in imaginery time.\n",
        "  steps controls the Trotter time steps.\n",
        "  Note, that nqubits should be odd.\n",
        "\n",
        "  Args:\n",
        "    steps (np.array): array of Trotter time steps for imaginary time evolution;\n",
        "    m0 (np.float) : auxiliary number as defined in arXiv:2111.12471\n",
        "    J (np.float) : the coefficient of the interaction term in the Ising Hamiltonian.\n",
        "    h (np.float) : the coefficient of the transverse magnetic field term in X direction.\n",
        "    hz (np.float) : the coefficient of the transverse magnetic field term in Z direction.\n",
        "    nqubits (np.int): total number of qubits, both physical and one (last) ancilla qubit.\n",
        "  \"\"\"\n",
        "  s = m0/np.sqrt(1-m0**2)\n",
        "  dtau = steps*s\n",
        "  kappa = np.sign(m0 - 1./np.sqrt(2))\n",
        "  theta0 = kappa*np.arccos((m0 + np.sqrt(1-m0**2))/np.sqrt(2))\n",
        "\n",
        "  for c in range(len(steps)):\n",
        "    dt = dtau[c]\n",
        "    imaginary_time_step_Ising(dt, J, h, hz, nqubits, theta0)\n",
        "\n",
        "def state_prep(nqubits):\n",
        "  \"\"\"\n",
        "  Prepares the initial product state.\n",
        "  You can freely change this state, it will not influence the results.\n",
        "\n",
        "  Args:\n",
        "    nqubits (np.int): total number of qubits, both physical and one (last) ancilla qubit.\n",
        "  \"\"\"\n",
        "  wqubits = nqubits - 1\n",
        "  phi_init = 0.3\n",
        "  for q in range(wqubits):\n",
        "    qml.Hadamard(wires = [q])\n",
        "    qml.RY(phi_init, wires = [q])"
      ],
      "metadata": {
        "id": "bxHYJsqqgurd"
      },
      "execution_count": null,
      "outputs": []
    },
    {
      "cell_type": "code",
      "source": [
        "Nqubits = 9         #Number of qubits.\n",
        "nqubits=Nqubits\n",
        "\n",
        "#Note, that one qubit is ancilla. Hence, the physical model is defined in\n",
        "#Nqubits-1 qubits.\n",
        "dev = qml.device(\"default.qubit\", wires=Nqubits)"
      ],
      "metadata": {
        "id": "YpE6E3D090qZ"
      },
      "execution_count": null,
      "outputs": []
    },
    {
      "cell_type": "markdown",
      "source": [
        "Functions for the imaginery time evolution, computation of energy, magnetization, and for subsequent gap estimation."
      ],
      "metadata": {
        "id": "3Sq3HeFNVqbC"
      }
    },
    {
      "cell_type": "code",
      "source": [
        "@qml.qnode(dev)\n",
        "def test_circuit(steps, m0, J, h, hz, nqubits):\n",
        "  \"\"\"\n",
        "  Prepares the state, applies Trotterized evolution with Ising Hamiltonian in imaginery time.\n",
        "  steps controls the Trotter time steps.\n",
        "  Note, that nqubits should be odd.\n",
        "\n",
        "  Args:\n",
        "    steps (np.array): array of Trotter time steps for imaginary time evolution;\n",
        "    m0 (np.float) : auxiliary number as defined in arXiv:2111.12471\n",
        "    J (np.float) : the coefficient of the interaction term in the Ising Hamiltonian.\n",
        "    h (np.float) : the coefficient of the transverse magnetic field term in X direction.\n",
        "    hz (np.float) : the coefficient of the transverse magnetic field term in Z direction.\n",
        "    nqubits (np.int): total number of qubits, both physical and one (last) ancilla qubit.\n",
        "\n",
        "  Returns:\n",
        "    density_matrix - density matrix of the system on the physical qubits.\n",
        "  \"\"\"\n",
        "  state_prep(nqubits)\n",
        "  imaginary_time_evolution_Ising(steps, m0, J, h, hz, nqubits)\n",
        "  return qml.density_matrix(wires = range(nqubits-1))\n",
        "\n",
        "@qml.qnode(dev)\n",
        "def test_energy(steps, m0, J, h, hz, nqubits):\n",
        "  \"\"\"\n",
        "  Finds the ground state energy with imaginary time evolution.\n",
        "  Prepares the state and Hamiltonian. Evolves the state in imaginary time.\n",
        "  Measures the Hamiltonian.\n",
        "\n",
        "  Args:\n",
        "    steps (np.array): array of Trotter time steps for imaginary time evolution;\n",
        "    m0 (np.float) : auxiliary number as defined in arXiv:2111.12471\n",
        "    J (np.float) : the coefficient of the interaction term in the Ising Hamiltonian.\n",
        "    h (np.float) : the coefficient of the transverse magnetic field term in X direction.\n",
        "    hz (np.float) : the coefficient of the transverse magnetic field term in Z direction.\n",
        "    nqubits (np.int): total number of qubits, both physical and one (last) ancilla qubit.\n",
        "\n",
        "  Returns:\n",
        "    expval(H) - expectation value of the Ising Hamiltonian.\n",
        "  \"\"\"\n",
        "  ZZ = [qml.PauliZ(i)@qml.PauliZ((i+1)%(nqubits-1)) for i in range(nqubits-1)]\n",
        "  ZZ_coeff = [-J for i in range(nqubits-1)]\n",
        "  X = [qml.PauliX(i) for i in range(nqubits-1)]\n",
        "  X_coeff = [-h for i in range(nqubits-1)]\n",
        "  Z = [qml.PauliZ(i) for i in range(nqubits-1)]\n",
        "  Z_coeff = [-hz for i in range(nqubits-1)]\n",
        "  obs = ZZ + X + Z\n",
        "  coeffs = ZZ_coeff + X_coeff + Z_coeff\n",
        "  H = qml.Hamiltonian(coeffs, obs, grouping_type=\"qwc\")\n",
        "  state_prep(nqubits)\n",
        "  imaginary_time_evolution_Ising(steps, m0, J, h, hz, nqubits)\n",
        "  return qml.expval(H)\n",
        "\n",
        "@qml.qnode(dev)\n",
        "def magnetization_Z(step, m0, J, h, hz, nqubits):\n",
        "  \"\"\"\n",
        "  Finds the magnetization with imaginery time optimization.\n",
        "\n",
        "  Args:\n",
        "    steps (np.array): array of Trotter time steps for imaginary time evolution;\n",
        "    m0 (np.float) : auxiliary number as defined in arXiv:2111.12471\n",
        "    J (np.float) : the coefficient of the interaction term in the Ising Hamiltonian.\n",
        "    h (np.float) : the coefficient of the transverse magnetic field term in X direction.\n",
        "    hz (np.float) : the coefficient of the transverse magnetic field term in Z direction.\n",
        "    nqubits (np.int): total number of qubits, both physical and one (last) ancilla qubit.\n",
        "\n",
        "  Returns:\n",
        "    expval(M) - expectation value of the magnetization in Z direction.\n",
        "  \"\"\"\n",
        "  Z = [qml.PauliZ(i) for i in range(nqubits-1)]\n",
        "  Z_coeff = [1.0 for i in range(nqubits-1)]\n",
        "\n",
        "  M = qml.Hamiltonian(Z_coeff, Z, grouping_type=\"qwc\")\n",
        "  state_prep(nqubits)\n",
        "  imaginary_time_evolution_Ising(steps, m0, J, h, hz, nqubits)\n",
        "  return qml.expval(M)\n",
        "\n",
        "def gap_operators(steps, m0, J, h, hz, nqubits):\n",
        "  \"\"\"\n",
        "  Finds the [H,O] expectation value.\n",
        "  O = \\sum_{i} \\sigma_{i}^{y}\n",
        "  Two such expectations for different imaginary times can be used to estimate\n",
        "  the gap.\n",
        "\n",
        "  Args:\n",
        "    steps (np.array): array of Trotter time steps for imaginary time evolution;\n",
        "    m0 (np.float) : auxiliary number as defined in arXiv:2111.12471\n",
        "    J (np.float) : the coefficient of the interaction term in the Ising Hamiltonian.\n",
        "    h (np.float) : the coefficient of the transverse magnetic field term in X direction.\n",
        "    hz (np.float) : the coefficient of the transverse magnetic field term in Z direction.\n",
        "    nqubits (np.int): total number of qubits, both physical and one (last) ancilla qubit.\n",
        "\n",
        "  Returns:\n",
        "    expt_HO - expectation value of the commutator [H,O] for the final time.\n",
        "  \"\"\"\n",
        "  rdm = test_circuit(steps, m0, J, h, hz, nqubits)\n",
        "  obs = []\n",
        "  coeffs = []\n",
        "  for c in range(nqubits - 1):\n",
        "    obs += [qml.PauliZ(c), qml.PauliX(c), qml.PauliX(c)@qml.PauliZ((c+1)%(nqubits-1)), qml.PauliZ((c-1)%(nqubits-1))@qml.PauliX(c)]\n",
        "    coeffs += [-h, hz, J, J]\n",
        "  HO = qml.Hamiltonian(coeffs, obs, grouping_type=\"qwc\")\n",
        "  HOm = HO.sparse_matrix().todense()\n",
        "  expt_HO = np.einsum(\"ij,ji ->\", HOm, rdm)\n",
        "\n",
        "  return expt_HO\n"
      ],
      "metadata": {
        "id": "uwFmM76sE6FT"
      },
      "execution_count": null,
      "outputs": []
    },
    {
      "cell_type": "markdown",
      "source": [
        "## search for phase transition"
      ],
      "metadata": {
        "id": "-WmiQLyGiLSj"
      }
    },
    {
      "cell_type": "markdown",
      "source": [
        "Function for the exact gap computation with exact diagonalization:"
      ],
      "metadata": {
        "id": "u0ScA8PrHJaz"
      }
    },
    {
      "cell_type": "code",
      "source": [
        "def get_gap_compute(J):\n",
        "  J = J                      #Ising model parameters\n",
        "  h = 1.0\n",
        "  ZZ = [qml.PauliZ(i)@qml.PauliZ((i+1)%(Nqubits-1)) for i in range(Nqubits-1)]\n",
        "  ZZ_coeff = [-J for i in range(Nqubits-1)]\n",
        "  X = [qml.PauliX(i) for i in range(Nqubits-1)]\n",
        "  X_coeff = [-h for i in range(Nqubits-1)]\n",
        "\n",
        "  obs = ZZ + X\n",
        "  coeffs = ZZ_coeff + X_coeff\n",
        "  H = qml.Hamiltonian(coeffs, obs, grouping_type=\"qwc\")\n",
        "\n",
        "  Hs = H.sparse_matrix()\n",
        "  M = Hs.todense()\n",
        "  d = np.sort(np.real(np.linalg.eigvals(M)))\n",
        "  return d[1] -d[0]"
      ],
      "metadata": {
        "id": "MNsZPkjrpffg"
      },
      "execution_count": null,
      "outputs": []
    },
    {
      "cell_type": "markdown",
      "source": [
        "Function for the exact gap estimation with linear interpolation in Trotter step."
      ],
      "metadata": {
        "id": "c4t5V206Hd1h"
      }
    },
    {
      "cell_type": "code",
      "source": [
        "def get_gap_accurate_new(J,nsteps=100,step1=0.02,step21=0.002,step22=0.001):\n",
        "  '''\n",
        "  Args:\n",
        "    J : ferromagneti coupling of the transverse-field Ising model.\n",
        "    nsteps : Number of Trotter steps in the preoptimization.\n",
        "    step1 : Trotter step in the preoptimization.\n",
        "    step21 : first final step of imaginary time evolution\n",
        "    step22: second final step of imaginary time evolution.\n",
        "\n",
        "  We first preform the imaginary time evolution with nsteps and with large Trotter step step1.\n",
        "  Then we add a small time step step21 and compare the expectation values of commutator [H,O]\n",
        "  prior and after the step21 step. We then repeat this calculations with final step step22.\n",
        "  We use the linear extrapolation of these two results to obtain the final extrapolated gap.\n",
        "  '''\n",
        "  m0 = 0.8\n",
        "  h = 1.0\n",
        "  hz  = 0.0\n",
        "  ####First evolution starts:\n",
        "  step1 = step1     #Large time step for preliminary optimization\n",
        "  steps = step1*np.ones(nsteps)\n",
        "  est1 = gap_operators(steps, m0, J, h,hz, Nqubits)\n",
        "\n",
        "  step2 = step21      #Small time step for gap extraction.\n",
        "  steps = step1*np.ones(nsteps)\n",
        "\n",
        "  steps = np.append(steps, step2)\n",
        "  est2 = gap_operators(steps, m0, J, h, hz, Nqubits)\n",
        "  #First gap extracted:\n",
        "  gap1 = -np.log(np.abs(est2/est1))/step2\n",
        "\n",
        "  ###Second evolution with final time step step22 starts:\n",
        "  step1 = step1       #Large time step for preliminary optimization\n",
        "  step2 = step22      #Small time step for gap extraction.\n",
        "  steps = step1*np.ones(nsteps)\n",
        "  steps = np.append(steps, step2)\n",
        "  est2 = gap_operators(steps, m0, J, h,hz, Nqubits)\n",
        "  #Second gap obtained:\n",
        "  gap2 = -np.log(np.abs(est2/est1))/step2\n",
        "  return gap2,gap1\n"
      ],
      "metadata": {
        "id": "ZMNeuI6yUI-I"
      },
      "execution_count": null,
      "outputs": []
    },
    {
      "cell_type": "markdown",
      "source": [
        "Computation of the first gap $\\Delta = E_{1} - E_{0}$ for different couplings $J$ (with $h = 1$)."
      ],
      "metadata": {
        "id": "Uizxu7X0Jm7k"
      }
    },
    {
      "cell_type": "code",
      "source": [
        "import matplotlib.pyplot as plt\n",
        "import pennylane as qml\n",
        "import pennylane.numpy as np\n",
        "\n",
        "gap_true=[]        #extrapolated gaps\n",
        "gap_compute=[]     #Exact gaps with exact diagonalization\n",
        "gap_2_res=[]       #Gaps without extrapolation in Trotter step.\n",
        "for J in np.linspace(0.,1,30):\n",
        "  nsteps=800\n",
        "  gap_2,gap_1=get_gap_accurate_new(J,nsteps=nsteps,step1=0.015,step21=0.001,step22=0.0005)\n",
        "  accurate_gap=gap_2+(gap_2-gap_1)\n",
        "\n",
        "  computed_gap=get_gap_compute(J)\n",
        "\n",
        "  error=100*(computed_gap-accurate_gap)/accurate_gap\n",
        "  gap_2_res.append(gap_1)\n",
        "  gap_true.append(accurate_gap)\n",
        "  gap_compute.append(computed_gap)\n",
        "  print(\"J=\",J)\n",
        "  print(f\"Error in gap estimation is {error}%\")\n"
      ],
      "metadata": {
        "id": "j2U7mXBfiUHM",
        "outputId": "aef01364-efe6-4b1b-9fba-c2fd240d316d",
        "colab": {
          "base_uri": "https://localhost:8080/"
        }
      },
      "execution_count": null,
      "outputs": [
        {
          "output_type": "stream",
          "name": "stdout",
          "text": [
            "J= 0.0\n",
            "Error in gap estimation is -0.0019769290860450883%\n",
            "J= 0.034482758620689655\n",
            "Error in gap estimation is 0.010212705892330774%\n",
            "J= 0.06896551724137931\n",
            "Error in gap estimation is 0.007606682757795668%\n",
            "J= 0.10344827586206896\n",
            "Error in gap estimation is 0.00795849630569557%\n",
            "J= 0.13793103448275862\n",
            "Error in gap estimation is 0.0057813776480937565%\n",
            "J= 0.1724137931034483\n",
            "Error in gap estimation is 0.007829317370467577%\n",
            "J= 0.20689655172413793\n",
            "Error in gap estimation is 0.00833120528132204%\n",
            "J= 0.24137931034482757\n",
            "Error in gap estimation is 0.00954530677851299%\n",
            "J= 0.27586206896551724\n",
            "Error in gap estimation is 0.010594886550736222%\n",
            "J= 0.3103448275862069\n",
            "Error in gap estimation is 0.011878051225195899%\n",
            "J= 0.3448275862068966\n",
            "Error in gap estimation is 0.01337757901250348%\n",
            "J= 0.3793103448275862\n",
            "Error in gap estimation is 0.015325481542083732%\n",
            "J= 0.41379310344827586\n",
            "Error in gap estimation is 0.017700449547186088%\n",
            "J= 0.4482758620689655\n",
            "Error in gap estimation is 0.02068744342624411%\n",
            "J= 0.48275862068965514\n",
            "Error in gap estimation is 0.024473094326793544%\n",
            "J= 0.5172413793103449\n",
            "Error in gap estimation is 0.02937047654481875%\n",
            "J= 0.5517241379310345\n",
            "Error in gap estimation is 0.03579472079674264%\n",
            "J= 0.5862068965517241\n",
            "Error in gap estimation is 0.04442834251868747%\n",
            "J= 0.6206896551724138\n",
            "Error in gap estimation is 0.05633559020746832%\n",
            "J= 0.6551724137931034\n",
            "Error in gap estimation is 0.07326728476587972%\n",
            "J= 0.6896551724137931\n",
            "Error in gap estimation is 0.09822575381184928%\n",
            "J= 0.7241379310344828\n",
            "Error in gap estimation is 0.13656498105775042%\n",
            "J= 0.7586206896551724\n",
            "Error in gap estimation is 0.19817142582395963%\n",
            "J= 0.7931034482758621\n",
            "Error in gap estimation is 0.3016736239394009%\n",
            "J= 0.8275862068965517\n",
            "Error in gap estimation is 0.4822133882804299%\n",
            "J= 0.8620689655172413\n",
            "Error in gap estimation is 0.8049406465121364%\n",
            "J= 0.896551724137931\n",
            "Error in gap estimation is 1.387171562188676%\n",
            "J= 0.9310344827586207\n",
            "Error in gap estimation is 2.434216421731213%\n",
            "J= 0.9655172413793103\n",
            "Error in gap estimation is 4.301444157976833%\n",
            "J= 1.0\n",
            "Error in gap estimation is 7.61977881979614%\n"
          ]
        }
      ]
    },
    {
      "cell_type": "code",
      "source": [
        "plt.plot(np.linspace(0.,1,30),gap_true,label=\"extrapolation\")\n",
        "plt.plot(np.linspace(0.,1,30),gap_compute,label=\"compute\")\n",
        "\n",
        "plt.legend()"
      ],
      "metadata": {
        "colab": {
          "base_uri": "https://localhost:8080/",
          "height": 448
        },
        "id": "1hIW5EpsBj7Q",
        "outputId": "a8f5e2f0-6d35-44cc-dd14-a3bf5650f9bd"
      },
      "execution_count": null,
      "outputs": [
        {
          "output_type": "execute_result",
          "data": {
            "text/plain": [
              "<matplotlib.legend.Legend at 0x7818a188fbe0>"
            ]
          },
          "metadata": {},
          "execution_count": 11
        },
        {
          "output_type": "display_data",
          "data": {
            "text/plain": [
              "<Figure size 640x480 with 1 Axes>"
            ],
            "image/png": "[encoded data removed]"
          },
          "metadata": {}
        }
      ]
    },
    {
      "cell_type": "code",
      "source": [
        "np.save(\"q9_extr\",gap_true)\n",
        "np.save(\"q9_compute\",gap_compute)"
      ],
      "metadata": {
        "id": "Gl823vyrLruQ"
      },
      "execution_count": null,
      "outputs": []
    },
    {
      "cell_type": "markdown",
      "source": [
        "We have obtained in the same way the results for $L=5,7$. All this data is in the files \"qL_extr.npy\", \"qL_compute.npy\", which are in our submission files. This data can be used to estimate the transition point."
      ],
      "metadata": {
        "id": "IdEBFYXfZzyQ"
      }
    }
  ]
}