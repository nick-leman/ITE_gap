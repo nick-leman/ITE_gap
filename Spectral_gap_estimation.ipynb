{
  "nbformat": 4,
  "nbformat_minor": 0,
  "metadata": {
    "colab": {
      "provenance": []
    },
    "kernelspec": {
      "name": "python3",
      "display_name": "Python 3"
    },
    "language_info": {
      "name": "python"
    }
  },
  "cells": [
    {
      "cell_type": "markdown",
      "source": [
        "This notebook is used to build Figures 2,3,4,5.\n",
        "\n",
        "It is used to obtain only the first spectral gap of the tranverse-field Ising model."
      ],
      "metadata": {
        "id": "EbCRnIg9IxNW"
      }
    },
    {
      "cell_type": "code",
      "execution_count": null,
      "metadata": {
        "colab": {
          "base_uri": "https://localhost:8080/"
        },
        "id": "QE2RsDNsf2hD",
        "outputId": "9ba75c3e-3dca-4ed5-d7f5-4e0ada7f6f14"
      },
      "outputs": [
        {
          "output_type": "stream",
          "name": "stdout",
          "text": [
            "Collecting pennylane\n",
            "  Downloading PennyLane-0.34.0-py3-none-any.whl (1.6 MB)\n",
            "\u001b[?25l     \u001b[90m━━━━━━━━━━━━━━━━━━━━━━━━━━━━━━━━━━━━━━━━\u001b[0m \u001b[32m0.0/1.6 MB\u001b[0m \u001b[31m?\u001b[0m eta \u001b[36m-:--:--\u001b[0m\r\u001b[2K     \u001b[91m━\u001b[0m\u001b[91m╸\u001b[0m\u001b[90m━━━━━━━━━━━━━━━━━━━━━━━━━━━━━━━━━━━━━━\u001b[0m \u001b[32m0.1/1.6 MB\u001b[0m \u001b[31m1.6 MB/s\u001b[0m eta \u001b[36m0:00:01\u001b[0m\r\u001b[2K     \u001b[91m━━━━━━━━━━━━━━━━━━━━━━━━━━━━━━━━━━━━━\u001b[0m\u001b[91m╸\u001b[0m\u001b[90m━━\u001b[0m \u001b[32m1.5/1.6 MB\u001b[0m \u001b[31m21.2 MB/s\u001b[0m eta \u001b[36m0:00:01\u001b[0m\r\u001b[2K     \u001b[90m━━━━━━━━━━━━━━━━━━━━━━━━━━━━━━━━━━━━━━━━\u001b[0m \u001b[32m1.6/1.6 MB\u001b[0m \u001b[31m17.4 MB/s\u001b[0m eta \u001b[36m0:00:00\u001b[0m\n",
            "\u001b[?25hRequirement already satisfied: numpy in /usr/local/lib/python3.10/dist-packages (from pennylane) (1.25.2)\n",
            "Requirement already satisfied: scipy in /usr/local/lib/python3.10/dist-packages (from pennylane) (1.11.4)\n",
            "Requirement already satisfied: networkx in /usr/local/lib/python3.10/dist-packages (from pennylane) (3.2.1)\n",
            "Collecting rustworkx (from pennylane)\n",
            "  Downloading rustworkx-0.14.0-cp310-cp310-manylinux_2_17_x86_64.manylinux2014_x86_64.whl (2.2 MB)\n",
            "\u001b[2K     \u001b[90m━━━━━━━━━━━━━━━━━━━━━━━━━━━━━━━━━━━━━━━━\u001b[0m \u001b[32m2.2/2.2 MB\u001b[0m \u001b[31m57.7 MB/s\u001b[0m eta \u001b[36m0:00:00\u001b[0m\n",
            "\u001b[?25hRequirement already satisfied: autograd in /usr/local/lib/python3.10/dist-packages (from pennylane) (1.6.2)\n",
            "Requirement already satisfied: toml in /usr/local/lib/python3.10/dist-packages (from pennylane) (0.10.2)\n",
            "Requirement already satisfied: appdirs in /usr/local/lib/python3.10/dist-packages (from pennylane) (1.4.4)\n",
            "Collecting semantic-version>=2.7 (from pennylane)\n",
            "  Downloading semantic_version-2.10.0-py2.py3-none-any.whl (15 kB)\n",
            "Collecting autoray>=0.6.1 (from pennylane)\n",
            "  Downloading autoray-0.6.8-py3-none-any.whl (49 kB)\n",
            "\u001b[2K     \u001b[90m━━━━━━━━━━━━━━━━━━━━━━━━━━━━━━━━━━━━━━━━\u001b[0m \u001b[32m49.9/49.9 kB\u001b[0m \u001b[31m6.9 MB/s\u001b[0m eta \u001b[36m0:00:00\u001b[0m\n",
            "\u001b[?25hRequirement already satisfied: cachetools in /usr/local/lib/python3.10/dist-packages (from pennylane) (5.3.2)\n",
            "Collecting pennylane-lightning>=0.34 (from pennylane)\n",
            "  Downloading PennyLane_Lightning-0.34.0-cp310-cp310-manylinux_2_17_x86_64.manylinux2014_x86_64.whl (18.1 MB)\n",
            "\u001b[2K     \u001b[90m━━━━━━━━━━━━━━━━━━━━━━━━━━━━━━━━━━━━━━━━\u001b[0m \u001b[32m18.1/18.1 MB\u001b[0m \u001b[31m45.9 MB/s\u001b[0m eta \u001b[36m0:00:00\u001b[0m\n",
            "\u001b[?25hRequirement already satisfied: requests in /usr/local/lib/python3.10/dist-packages (from pennylane) (2.31.0)\n",
            "Requirement already satisfied: typing-extensions in /usr/local/lib/python3.10/dist-packages (from pennylane) (4.9.0)\n",
            "Requirement already satisfied: future>=0.15.2 in /usr/local/lib/python3.10/dist-packages (from autograd->pennylane) (0.18.3)\n",
            "Requirement already satisfied: charset-normalizer<4,>=2 in /usr/local/lib/python3.10/dist-packages (from requests->pennylane) (3.3.2)\n",
            "Requirement already satisfied: idna<4,>=2.5 in /usr/local/lib/python3.10/dist-packages (from requests->pennylane) (3.6)\n",
            "Requirement already satisfied: urllib3<3,>=1.21.1 in /usr/local/lib/python3.10/dist-packages (from requests->pennylane) (2.0.7)\n",
            "Requirement already satisfied: certifi>=2017.4.17 in /usr/local/lib/python3.10/dist-packages (from requests->pennylane) (2024.2.2)\n",
            "Installing collected packages: semantic-version, rustworkx, autoray, pennylane-lightning, pennylane\n",
            "Successfully installed autoray-0.6.8 pennylane-0.34.0 pennylane-lightning-0.34.0 rustworkx-0.14.0 semantic-version-2.10.0\n",
            "Requirement already satisfied: matplotlib in /usr/local/lib/python3.10/dist-packages (3.7.1)\n",
            "Requirement already satisfied: contourpy>=1.0.1 in /usr/local/lib/python3.10/dist-packages (from matplotlib) (1.2.0)\n",
            "Requirement already satisfied: cycler>=0.10 in /usr/local/lib/python3.10/dist-packages (from matplotlib) (0.12.1)\n",
            "Requirement already satisfied: fonttools>=4.22.0 in /usr/local/lib/python3.10/dist-packages (from matplotlib) (4.49.0)\n",
            "Requirement already satisfied: kiwisolver>=1.0.1 in /usr/local/lib/python3.10/dist-packages (from matplotlib) (1.4.5)\n",
            "Requirement already satisfied: numpy>=1.20 in /usr/local/lib/python3.10/dist-packages (from matplotlib) (1.25.2)\n",
            "Requirement already satisfied: packaging>=20.0 in /usr/local/lib/python3.10/dist-packages (from matplotlib) (23.2)\n",
            "Requirement already satisfied: pillow>=6.2.0 in /usr/local/lib/python3.10/dist-packages (from matplotlib) (9.4.0)\n",
            "Requirement already satisfied: pyparsing>=2.3.1 in /usr/local/lib/python3.10/dist-packages (from matplotlib) (3.1.1)\n",
            "Requirement already satisfied: python-dateutil>=2.7 in /usr/local/lib/python3.10/dist-packages (from matplotlib) (2.8.2)\n",
            "Requirement already satisfied: six>=1.5 in /usr/local/lib/python3.10/dist-packages (from python-dateutil>=2.7->matplotlib) (1.16.0)\n"
          ]
        }
      ],
      "source": [
        "%pip install pennylane\n",
        "%pip install matplotlib"
      ]
    },
    {
      "cell_type": "code",
      "source": [
        "import matplotlib.pyplot as plt\n",
        "import pennylane as qml\n",
        "import pennylane.numpy as np"
      ],
      "metadata": {
        "id": "ml-qF883f8B9"
      },
      "execution_count": null,
      "outputs": []
    },
    {
      "cell_type": "markdown",
      "source": [
        "Functions to prepare the state and evolve it in the imaginary time."
      ],
      "metadata": {
        "id": "kyKamZ4AUUGt"
      }
    },
    {
      "cell_type": "code",
      "source": [
        "#Trotter for Ising\n",
        "sigma_z = np.array([[1.0, 0.0], [0.0, -1.0]])\n",
        "sigma_x = np.array([[0.0, 1.0], [1.0, 0.0]])\n",
        "sigma_y = np.array([[0.0, -1j], [1j, 0.0]])\n",
        "W = np.array([[1.0, -1j], [1.0, 1j]])/np.sqrt(2.)\n",
        "\n",
        "def Ising_U(dt, J, h, hz):\n",
        "  \"\"\"\n",
        "  Returns the unitary matrix for the Ising Trotterization.\n",
        "\n",
        "  Args:\n",
        "    dt (np.float): Trotter time step;\n",
        "    J (np.float) : the coefficient of the interaction term in the Ising Hamiltonian.\n",
        "    h (np.float) : the coefficient of the transverse magnetic field term in X direction.\n",
        "    hz (np.float) : the coefficient of the transverse magnetic field term in Z direction.\n",
        "\n",
        "  Returns:\n",
        "     U - unitary matrix used in Trotter evolution on two neighbour sites.\n",
        "  \"\"\"\n",
        "  H = -J*np.einsum(\"ij, kl -> ikjl\", sigma_z, sigma_z)\n",
        "  H -= h*np.einsum(\"ij, kl -> ikjl\", sigma_x, np.eye(2))/2\n",
        "  H -= h*np.einsum(\"ij, kl -> ikjl\", np.eye(2), sigma_x)/2\n",
        "  H -= hz*np.einsum(\"ij, kl -> ikjl\", sigma_z, np.eye(2))/2\n",
        "  H -= hz*np.einsum(\"ij, kl -> ikjl\", np.eye(2), sigma_z)/2\n",
        "  H = np.reshape(H, [4,4])\n",
        "  d, V = np.linalg.eigh(H)\n",
        "  U = np.einsum(\"ij, j, kj -> ik\", V, np.exp(-1j*dt*d), V)\n",
        "  return U\n",
        "\n",
        "def Trotter_Ising(dt, J, h, hz, wqubits):\n",
        "  \"\"\"\n",
        "  Applies Trotterized evolution with Ising Hamiltonian in real time.\n",
        "  Note, that wqubits should be even.\n",
        "\n",
        "  Args:\n",
        "    dt (np.float): Trotter time step;\n",
        "    J (np.float) : the coefficient of the interaction term in the Ising Hamiltonian.\n",
        "    h (np.float) : the coefficient of the transverse magnetic field term in X direction.\n",
        "    hz (np.float) : the coefficient of the transverse magnetic field term in Z direction.\n",
        "    wqubits (np.int) : number of physical (without ancilla) qubits\n",
        "\n",
        "  \"\"\"\n",
        "  N = wqubits//2\n",
        "  U = Ising_U(dt, J, h, hz)\n",
        "  for q in range(N):\n",
        "    qml.QubitUnitary(U, wires = [2*q,2*q+1])\n",
        "  for q in range(N-1):\n",
        "    qml.QubitUnitary(U, wires = [2*q+1,2*q+2])\n",
        "  qml.QubitUnitary(U, wires = [wqubits-1, 0])\n",
        "\n",
        "\n",
        "@qml.defer_measurements\n",
        "def imaginary_time_step_Ising(dt, J, h,hz, nqubits, theta0):\n",
        "  \"\"\"\n",
        "  Applies one step of Trotterized evolution with Ising Hamiltonian in imaginery time.\n",
        "  Note, that wqubits should be even.\n",
        "\n",
        "    Args:\n",
        "    dt (np.float): Trotter time step of real time evolution;\n",
        "    J (np.float) : the coefficient of the interaction term in the Ising Hamiltonian.\n",
        "    h (np.float) : the coefficient of the transverse magnetic field term in X direction.\n",
        "    hz (np.float) : the coefficient of the transverse magnetic field term in Z direction.\n",
        "    nqubits (np.int): total number of qubits, both physical and one (last) ancilla qubit.\n",
        "    theta0 (np.float): the angle of the Rz gate, as defined in arXiv:2111.12471\n",
        "  \"\"\"\n",
        "  wqubits = nqubits - 1\n",
        "  qml.Hadamard(wires = [nqubits-1])\n",
        "  qml.QubitUnitary(W, wires = [nqubits-1])\n",
        "  qml.ctrl(Trotter_Ising, [nqubits-1], control_values = [0])(dt, J, h, hz, wqubits)\n",
        "  qml.ctrl(qml.adjoint(Trotter_Ising), [nqubits-1], control_values = [1])(dt, J, h, hz, wqubits)\n",
        "  qml.RZ(-2*theta0, wires = [nqubits-1])\n",
        "  qml.adjoint(qml.QubitUnitary(W, wires = [nqubits-1]))\n",
        "  qml.measure(wires = [nqubits-1], postselect = 0)\n",
        "\n",
        "def imaginary_time_evolution_Ising(steps, m0, J, h,hz, nqubits):\n",
        "  \"\"\"\n",
        "  Applies Trotterized evolution with Ising Hamiltonian in imaginery time.\n",
        "  steps controls the Trotter time steps.\n",
        "  Note, that nqubits should be odd.\n",
        "\n",
        "  Args:\n",
        "    steps (np.array): array of Trotter time steps for imaginary time evolution;\n",
        "    m0 (np.float) : auxiliary number as defined in arXiv:2111.12471\n",
        "    J (np.float) : the coefficient of the interaction term in the Ising Hamiltonian.\n",
        "    h (np.float) : the coefficient of the transverse magnetic field term in X direction.\n",
        "    hz (np.float) : the coefficient of the transverse magnetic field term in Z direction.\n",
        "    nqubits (np.int): total number of qubits, both physical and one (last) ancilla qubit.\n",
        "  \"\"\"\n",
        "  s = m0/np.sqrt(1-m0**2)\n",
        "  dtau = steps*s\n",
        "  kappa = np.sign(m0 - 1./np.sqrt(2))\n",
        "  theta0 = kappa*np.arccos((m0 + np.sqrt(1-m0**2))/np.sqrt(2))\n",
        "\n",
        "  for c in range(len(steps)):\n",
        "    dt = dtau[c]\n",
        "    imaginary_time_step_Ising(dt, J, h, hz, nqubits, theta0)\n",
        "\n",
        "def state_prep(nqubits):\n",
        "  \"\"\"\n",
        "  Prepares the initial product state.\n",
        "  You can freely change this state, it will not influence the results.\n",
        "\n",
        "  Args:\n",
        "    nqubits (np.int): total number of qubits, both physical and one (last) ancilla qubit.\n",
        "  \"\"\"\n",
        "  wqubits = nqubits - 1\n",
        "  phi_init = 0.3\n",
        "  for q in range(wqubits):\n",
        "    qml.Hadamard(wires = [q])\n",
        "    qml.RY(phi_init, wires = [q])\n"
      ],
      "metadata": {
        "id": "bxHYJsqqgurd"
      },
      "execution_count": null,
      "outputs": []
    },
    {
      "cell_type": "code",
      "source": [
        "Nqubits = 5         #Number of qubits.\n",
        "#Note, that one qubit is ancilla. Hence, the physical model is defined in\n",
        "#Nqubits-1 qubits.\n",
        "dev = qml.device(\"default.qubit\", wires=Nqubits)"
      ],
      "metadata": {
        "id": "YpE6E3D090qZ"
      },
      "execution_count": null,
      "outputs": []
    },
    {
      "cell_type": "markdown",
      "source": [
        "Functions for the imaginery time evolution, computation of energy, magnetization, and for subsequent gap estimation."
      ],
      "metadata": {
        "id": "3Sq3HeFNVqbC"
      }
    },
    {
      "cell_type": "code",
      "source": [
        "@qml.qnode(dev)\n",
        "def test_circuit(steps, m0, J, h, hz, nqubits):\n",
        "  \"\"\"\n",
        "  Prepares the state, applies Trotterized evolution with Ising Hamiltonian in imaginery time.\n",
        "  steps controls the Trotter time steps.\n",
        "  Note, that nqubits should be odd.\n",
        "\n",
        "  Args:\n",
        "    steps (np.array): array of Trotter time steps for imaginary time evolution;\n",
        "    m0 (np.float) : auxiliary number as defined in arXiv:2111.12471\n",
        "    J (np.float) : the coefficient of the interaction term in the Ising Hamiltonian.\n",
        "    h (np.float) : the coefficient of the transverse magnetic field term in X direction.\n",
        "    hz (np.float) : the coefficient of the transverse magnetic field term in Z direction.\n",
        "    nqubits (np.int): total number of qubits, both physical and one (last) ancilla qubit.\n",
        "\n",
        "  Returns:\n",
        "    density_matrix - density matrix of the system on the physical qubits.\n",
        "  \"\"\"\n",
        "  state_prep(nqubits)\n",
        "  imaginary_time_evolution_Ising(steps, m0, J, h, hz, nqubits)\n",
        "  return qml.density_matrix(wires = range(nqubits-1))\n",
        "\n",
        "@qml.qnode(dev)\n",
        "def test_energy(steps, m0, J, h, hz, nqubits):\n",
        "  \"\"\"\n",
        "  Finds the ground state energy with imaginary time evolution.\n",
        "  Prepares the state and Hamiltonian. Evolves the state in imaginary time.\n",
        "  Measures the Hamiltonian.\n",
        "\n",
        "  Args:\n",
        "    steps (np.array): array of Trotter time steps for imaginary time evolution;\n",
        "    m0 (np.float) : auxiliary number as defined in arXiv:2111.12471\n",
        "    J (np.float) : the coefficient of the interaction term in the Ising Hamiltonian.\n",
        "    h (np.float) : the coefficient of the transverse magnetic field term in X direction.\n",
        "    hz (np.float) : the coefficient of the transverse magnetic field term in Z direction.\n",
        "    nqubits (np.int): total number of qubits, both physical and one (last) ancilla qubit.\n",
        "\n",
        "  Returns:\n",
        "    expval(H) - expectation value of the Ising Hamiltonian.\n",
        "  \"\"\"\n",
        "  ZZ = [qml.PauliZ(i)@qml.PauliZ((i+1)%(nqubits-1)) for i in range(nqubits-1)]\n",
        "  ZZ_coeff = [-J for i in range(nqubits-1)]\n",
        "  X = [qml.PauliX(i) for i in range(nqubits-1)]\n",
        "  X_coeff = [-h for i in range(nqubits-1)]\n",
        "  Z = [qml.PauliZ(i) for i in range(nqubits-1)]\n",
        "  Z_coeff = [-hz for i in range(nqubits-1)]\n",
        "  obs = ZZ + X + Z\n",
        "  coeffs = ZZ_coeff + X_coeff + Z_coeff\n",
        "  H = qml.Hamiltonian(coeffs, obs, grouping_type=\"qwc\")\n",
        "  state_prep(nqubits)\n",
        "  imaginary_time_evolution_Ising(steps, m0, J, h, hz, nqubits)\n",
        "  return qml.expval(H)\n",
        "\n",
        "@qml.qnode(dev)\n",
        "def magnetization_Z(step, m0, J, h, hz, nqubits):\n",
        "  \"\"\"\n",
        "  Finds the magnetization with imaginery time optimization.\n",
        "\n",
        "  Args:\n",
        "    steps (np.array): array of Trotter time steps for imaginary time evolution;\n",
        "    m0 (np.float) : auxiliary number as defined in arXiv:2111.12471\n",
        "    J (np.float) : the coefficient of the interaction term in the Ising Hamiltonian.\n",
        "    h (np.float) : the coefficient of the transverse magnetic field term in X direction.\n",
        "    hz (np.float) : the coefficient of the transverse magnetic field term in Z direction.\n",
        "    nqubits (np.int): total number of qubits, both physical and one (last) ancilla qubit.\n",
        "\n",
        "  Returns:\n",
        "    expval(M) - expectation value of the magnetization in Z direction.\n",
        "  \"\"\"\n",
        "  Z = [qml.PauliZ(i) for i in range(nqubits-1)]\n",
        "  Z_coeff = [1.0 for i in range(nqubits-1)]\n",
        "\n",
        "  M = qml.Hamiltonian(Z_coeff, Z, grouping_type=\"qwc\")\n",
        "  state_prep(nqubits)\n",
        "  imaginary_time_evolution_Ising(steps, m0, J, h, hz, nqubits)\n",
        "  return qml.expval(M)\n",
        "\n",
        "def gap_operators(steps, m0, J, h, hz, nqubits):\n",
        "  \"\"\"\n",
        "  Finds the [H,O] expectation value.\n",
        "  O = \\sum_{i} \\sigma_{i}^{y}\n",
        "  Two such expectations for different imaginary times can be used to estimate\n",
        "  the gap.\n",
        "\n",
        "  Args:\n",
        "    steps (np.array): array of Trotter time steps for imaginary time evolution;\n",
        "    m0 (np.float) : auxiliary number as defined in arXiv:2111.12471\n",
        "    J (np.float) : the coefficient of the interaction term in the Ising Hamiltonian.\n",
        "    h (np.float) : the coefficient of the transverse magnetic field term in X direction.\n",
        "    hz (np.float) : the coefficient of the transverse magnetic field term in Z direction.\n",
        "    nqubits (np.int): total number of qubits, both physical and one (last) ancilla qubit.\n",
        "\n",
        "  Returns:\n",
        "    expt_HO - expectation value of the commutator [H,O] for the final time.\n",
        "  \"\"\"\n",
        "  rdm = test_circuit(steps, m0, J, h, hz, nqubits)\n",
        "  obs = []\n",
        "  coeffs = []\n",
        "  for c in range(nqubits - 1):\n",
        "    obs += [qml.PauliZ(c), qml.PauliX(c), qml.PauliX(c)@qml.PauliZ((c+1)%(nqubits-1)), qml.PauliZ((c-1)%(nqubits-1))@qml.PauliX(c)]\n",
        "    coeffs += [-h, hz, J, J]\n",
        "  HO = qml.Hamiltonian(coeffs, obs, grouping_type=\"qwc\")\n",
        "  HOm = HO.sparse_matrix().todense()\n",
        "  expt_HO = np.einsum(\"ij,ji ->\", HOm, rdm)\n",
        "\n",
        "  return expt_HO\n",
        "\n"
      ],
      "metadata": {
        "id": "uwFmM76sE6FT"
      },
      "execution_count": null,
      "outputs": []
    },
    {
      "cell_type": "markdown",
      "source": [
        "Test of the ground state energy computation. Figure 2."
      ],
      "metadata": {
        "id": "pUTglPbfacFU"
      }
    },
    {
      "cell_type": "code",
      "source": [
        "step = 0.02                #Trotter time step.\n",
        "m0 = 0.8                   #Additional parameter for the algorithm.\n",
        "J = 0.2                    #Ising model parameters\n",
        "h = 1.0\n",
        "hz = 0.0\n",
        "E = []\n",
        "for nsteps in range(40):\n",
        "  steps = step*np.ones(nsteps)\n",
        "  Eg = test_energy(steps, m0, J, h, hz, Nqubits)\n",
        "  E.append(Eg)\n",
        "\n",
        "plt.plot(step*np.arange(40), E)\n",
        "print(f\"Optimized energy is {Eg}.\")\n",
        "\n",
        "ZZ = [qml.PauliZ(i)@qml.PauliZ((i+1)%(Nqubits-1)) for i in range(Nqubits-1)]\n",
        "ZZ_coeff = [-J for i in range(Nqubits-1)]\n",
        "X = [qml.PauliX(i) for i in range(Nqubits-1)]\n",
        "X_coeff = [-h for i in range(Nqubits-1)]\n",
        "Z = [qml.PauliZ(i) for i in range(Nqubits-1)]\n",
        "Z_coeff = [-hz for i in range(Nqubits-1)]\n",
        "obs = ZZ + X + Z\n",
        "coeffs = ZZ_coeff + X_coeff + Z_coeff\n",
        "H = qml.Hamiltonian(coeffs, obs, grouping_type=\"qwc\")\n",
        "\n",
        "Hs = H.sparse_matrix()\n",
        "M = Hs.todense()\n",
        "d = np.sort(np.real(np.linalg.eigvals(M)))\n",
        "\n",
        "print(f\"Exact ground state energy is: {d[0]}\")\n"
      ],
      "metadata": {
        "colab": {
          "base_uri": "https://localhost:8080/",
          "height": 466
        },
        "id": "KrjVHpu-S3AD",
        "outputId": "48deb6a9-50a4-4977-c02d-e3f5207d4ec9"
      },
      "execution_count": null,
      "outputs": [
        {
          "output_type": "stream",
          "name": "stdout",
          "text": [
            "Optimized energy is -4.022456314875726.\n",
            "Exact ground state energy is: -4.0405936992038605\n"
          ]
        },
        {
          "output_type": "display_data",
          "data": {
            "text/plain": [
              "<Figure size 640x480 with 1 Axes>"
            ],
            "image/png": "[encoded data removed]"
          },
          "metadata": {}
        }
      ]
    },
    {
      "cell_type": "markdown",
      "source": [
        "Computation of magnetization:"
      ],
      "metadata": {
        "id": "gbqlQs7FazcE"
      }
    },
    {
      "cell_type": "code",
      "source": [
        "step = 0.02\n",
        "m0 = 0.8\n",
        "J = 0.2\n",
        "h = 1.0\n",
        "hz = 0.0\n",
        "nsteps = 60\n",
        "steps = step*np.ones(nsteps)\n",
        "M = magnetization_Z(steps, m0, J, h, hz, Nqubits)\n",
        "\n",
        "print(f\"Magnetization in Z direction is {M/(Nqubits-1)}.\")"
      ],
      "metadata": {
        "colab": {
          "base_uri": "https://localhost:8080/"
        },
        "id": "G3VqthRZfqrF",
        "outputId": "73dbd343-4e9c-40b8-ab40-23eb5864c2c3"
      },
      "execution_count": null,
      "outputs": [
        {
          "output_type": "stream",
          "name": "stdout",
          "text": [
            "Magnetization in Z direction is -0.06764709885704982.\n"
          ]
        }
      ]
    },
    {
      "cell_type": "markdown",
      "source": [
        "Magnetization has successfully converged to near zero, as it should be in paramagnetic phase."
      ],
      "metadata": {
        "id": "uaD2I0PPa7At"
      }
    },
    {
      "cell_type": "markdown",
      "source": [
        "Let us start computing the gap. First we show that the commutator decays exponentially. Figure 3."
      ],
      "metadata": {
        "id": "R4c5-f43bGc6"
      }
    },
    {
      "cell_type": "code",
      "source": [
        "step = 0.005\n",
        "gap_est = []\n",
        "for nsteps in range(300):\n",
        "  steps = step*np.ones(nsteps)\n",
        "  est = gap_operators(steps, m0, J, h, hz, Nqubits)\n",
        "  gap_est.append(est)\n",
        "\n",
        "plt.plot(step*np.arange(300), np.log(np.abs(gap_est)))"
      ],
      "metadata": {
        "colab": {
          "base_uri": "https://localhost:8080/",
          "height": 448
        },
        "id": "eceGxKVSZYE1",
        "outputId": "d751dc09-4d96-4df9-a66c-d172798d0e89"
      },
      "execution_count": null,
      "outputs": [
        {
          "output_type": "execute_result",
          "data": {
            "text/plain": [
              "[<matplotlib.lines.Line2D at 0x7890fbc8d150>]"
            ]
          },
          "metadata": {},
          "execution_count": 14
        },
        {
          "output_type": "display_data",
          "data": {
            "text/plain": [
              "<Figure size 640x480 with 1 Axes>"
            ],
            "image/png": "[encoded data removed]"
          },
          "metadata": {}
        }
      ]
    },
    {
      "cell_type": "markdown",
      "source": [
        "We see a clear linear regime on this plot (which corresponds to exponential decay due to logarithm)."
      ],
      "metadata": {
        "id": "M-joufDVbRuL"
      }
    },
    {
      "cell_type": "markdown",
      "source": [
        "We can also find the numerical derivative of the logarithm: (Figure 4)"
      ],
      "metadata": {
        "id": "cc0RYl6Mbd3E"
      }
    },
    {
      "cell_type": "code",
      "source": [
        "gap_estimation = np.diff(np.log(np.real(gap_est)))/step\n",
        "plt.plot(step*np.arange(299), -gap_estimation)\n",
        "print(f\"Estimated energy gap is: {-gap_estimation[-1]}\")\n",
        "print(f\"Exact energy gap is: {d[1] -d[0]}\")"
      ],
      "metadata": {
        "colab": {
          "base_uri": "https://localhost:8080/",
          "height": 466
        },
        "id": "83nr5z9xpeLw",
        "outputId": "b52c6d97-9be2-485e-a60c-587842b11840"
      },
      "execution_count": null,
      "outputs": [
        {
          "output_type": "stream",
          "name": "stdout",
          "text": [
            "Estimated energy gap is: 1.5261117067637109\n",
            "Exact energy gap is: 1.6009858937667434\n"
          ]
        },
        {
          "output_type": "display_data",
          "data": {
            "text/plain": [
              "<Figure size 640x480 with 1 Axes>"
            ],
            "image/png": "[encoded data removed]"
          },
          "metadata": {}
        }
      ]
    },
    {
      "cell_type": "markdown",
      "source": [
        "We have extracted the gap from the derivative. Note, that there is a discrepancy in the result. This is largely caused by the errors in the approximation of the imaginery time evolution. There are two sources of such error: errors in the Trotterized evolution in the real time and errors in the algorithm, which does not exactly transform real time evolution into the imaginery time."
      ],
      "metadata": {
        "id": "jxlWn94DbmWW"
      }
    },
    {
      "cell_type": "markdown",
      "source": [
        "Both these errors can be reduced with decrease in the Trotter step. Below we also show the hybrid scheme, where we first optimize the ground state with large Trotter step, and then make a small several step optimization with small Trotter steps to extract the gap more reliable."
      ],
      "metadata": {
        "id": "bK_TW24ScMnO"
      }
    },
    {
      "cell_type": "code",
      "source": [
        "nsteps = 70\n",
        "\n",
        "step1 = 0.02       #Large time step for preliminary optimization\n",
        "steps = step1*np.ones(nsteps)\n",
        "est1 = gap_operators(steps, m0, J, h, hz, Nqubits)\n",
        "\n",
        "step2 = 0.003      #Small time step for gap extraction.\n",
        "steps = np.append(steps, step2)\n",
        "est2 = gap_operators(steps, m0, J, h, hz, Nqubits)\n",
        "\n",
        "gap = -np.log(np.abs(est2/est1))/step2\n",
        "\n",
        "print(f\"The gap estimation is {gap}\")\n",
        "print(f\"Exact energy gap is: {d[1] -d[0]}\")\n",
        "print(f\"The error is: {100*(d[1] -d[0]-gap)/gap} %\")"
      ],
      "metadata": {
        "colab": {
          "base_uri": "https://localhost:8080/"
        },
        "id": "3Y-wz1vwgDA1",
        "outputId": "4d4343ed-1708-4b52-a836-ef632b5546e0"
      },
      "execution_count": null,
      "outputs": [
        {
          "output_type": "stream",
          "name": "stdout",
          "text": [
            "The gap estimation is 1.5490100127602018\n",
            "Exact energy gap is: 1.6009858937667434\n",
            "The error is: 3.3554257608654887 %\n"
          ]
        }
      ]
    },
    {
      "cell_type": "code",
      "source": [
        "nsteps = 70\n",
        "\n",
        "step1 = 0.02       #Large time step for preliminary optimization\n",
        "steps = step1*np.ones(nsteps)\n",
        "est1 = gap_operators(steps, m0, J, h, hz, Nqubits)\n",
        "\n",
        "step2 = 0.002      #Small time step for gap extraction.\n",
        "steps = np.append(steps, step2)\n",
        "est2 = gap_operators(steps, m0, J, h, hz, Nqubits)\n",
        "\n",
        "gap1 = -np.log(np.abs(est2/est1))/step2\n",
        "\n",
        "print(f\"The gap estimation is {gap1}\")\n",
        "print(f\"Exact energy gap is: {d[1] -d[0]}\")\n",
        "print(f\"The error is: {100*(d[1] -d[0]-gap1)/gap1} %\")"
      ],
      "metadata": {
        "colab": {
          "base_uri": "https://localhost:8080/"
        },
        "id": "CkphFZfQDHm2",
        "outputId": "0ef42af9-9293-41ee-952e-08ac4b39efa1"
      },
      "execution_count": null,
      "outputs": [
        {
          "output_type": "stream",
          "name": "stdout",
          "text": [
            "The gap estimation is 1.563091358929987\n",
            "Exact energy gap is: 1.6009858937667434\n",
            "The error is: 2.4243326930485356 %\n"
          ]
        }
      ]
    },
    {
      "cell_type": "code",
      "source": [
        "nsteps = 70\n",
        "\n",
        "step1 = 0.02       #Large time step for preliminary optimization\n",
        "steps = step1*np.ones(nsteps)\n",
        "est1 = gap_operators(steps, m0, J, h,hz, Nqubits)\n",
        "\n",
        "step2 = 0.001      #Small time step for gap extraction.\n",
        "steps = np.append(steps, step2)\n",
        "est2 = gap_operators(steps, m0, J, h,hz, Nqubits)\n",
        "\n",
        "gap2 = -np.log(np.abs(est2/est1))/step2\n",
        "\n",
        "print(f\"The gap estimation is {gap2}\")\n",
        "print(f\"Exact energy gap is: {d[1] -d[0]}\")\n",
        "print(f\"The error is: {100*(d[1] -d[0]-gap2)/gap2} %\")"
      ],
      "metadata": {
        "colab": {
          "base_uri": "https://localhost:8080/"
        },
        "id": "ocIeFO0sf5Z_",
        "outputId": "66bd92aa-c406-4b2a-ae5f-9505764104c4"
      },
      "execution_count": null,
      "outputs": [
        {
          "output_type": "stream",
          "name": "stdout",
          "text": [
            "The gap estimation is 1.5772635957688053\n",
            "Exact energy gap is: 1.6009858937667434\n",
            "The error is: 1.5040160732534482 %\n"
          ]
        }
      ]
    },
    {
      "cell_type": "code",
      "source": [],
      "metadata": {
        "id": "mEVvGqyO0vnM"
      },
      "execution_count": null,
      "outputs": []
    },
    {
      "cell_type": "markdown",
      "source": [
        "We have find the gap to within two percent accuracy. Note, that the increase in the accuracy of imaginery time evolution implementation will result in much more accurate gaps. E.g. with tensor networks methods we were generally able to extract the gap to 0.1% accuracy, with 0.01 time step. The difference was that we have used Trotterized imaginery time evolution, not the real time transformed into the imaginery."
      ],
      "metadata": {
        "id": "RAUytFqGdWas"
      }
    },
    {
      "cell_type": "markdown",
      "source": [
        "It seems that the error scales linearly in time step. Perhaps, we can also use this to extrapolate the results:"
      ],
      "metadata": {
        "id": "l02tn-EBeOne"
      }
    },
    {
      "cell_type": "code",
      "source": [
        "gap_extrapolated = gap2 + (gap2 - gap1)"
      ],
      "metadata": {
        "id": "pm48QsTYm2eg"
      },
      "execution_count": null,
      "outputs": []
    },
    {
      "cell_type": "markdown",
      "source": [
        "Much more accurate estimation:"
      ],
      "metadata": {
        "id": "woapwvjonHMC"
      }
    },
    {
      "cell_type": "code",
      "source": [
        "print(f\"The error is: {100*(d[1] -d[0]-gap_extrapolated)/gap_extrapolated} %\")"
      ],
      "metadata": {
        "colab": {
          "base_uri": "https://localhost:8080/"
        },
        "id": "FkY6zKjZnUtO",
        "outputId": "22ee8cdd-205f-41ed-d2a3-9d729801e28b"
      },
      "execution_count": null,
      "outputs": [
        {
          "output_type": "stream",
          "name": "stdout",
          "text": [
            "The error is: 0.6000908716169742 %\n"
          ]
        }
      ]
    },
    {
      "cell_type": "markdown",
      "source": [
        "Let us now show that the error in the gap really depends linearly on the trotter step. We will also use non-trivial $h_{z}$, to show that our results do not depend upon the explicit breaking of the spin symmetry."
      ],
      "metadata": {
        "id": "AtLtlVEUp8lH"
      }
    },
    {
      "cell_type": "code",
      "source": [
        "step = 0.02                #Trotter time step.\n",
        "m0 = 0.8                   #Additional parameter for the algorithm.\n",
        "J = 0.4                    #Ising model parameters\n",
        "h = 1.0\n",
        "hz = 0.1\n",
        "\n",
        "ZZ = [qml.PauliZ(i)@qml.PauliZ((i+1)%(Nqubits-1)) for i in range(Nqubits-1)]\n",
        "ZZ_coeff = [-J for i in range(Nqubits-1)]\n",
        "X = [qml.PauliX(i) for i in range(Nqubits-1)]\n",
        "X_coeff = [-h for i in range(Nqubits-1)]\n",
        "Z = [qml.PauliZ(i) for i in range(Nqubits-1)]\n",
        "Z_coeff = [-hz for i in range(Nqubits-1)]\n",
        "obs = ZZ + X + Z\n",
        "coeffs = ZZ_coeff + X_coeff + Z_coeff\n",
        "H = qml.Hamiltonian(coeffs, obs, grouping_type=\"qwc\")\n",
        "\n",
        "Hs = H.sparse_matrix()\n",
        "M = Hs.todense()\n",
        "d = np.sort(np.real(np.linalg.eigvals(M)))"
      ],
      "metadata": {
        "id": "AP6SxrYEqTr5"
      },
      "execution_count": null,
      "outputs": []
    },
    {
      "cell_type": "code",
      "source": [
        "nsteps = 60\n",
        "\n",
        "gaps = []\n",
        "for step2 in np.linspace(0.001, 0.02, 10):\n",
        "  step1 = 0.04       #Large time step for preliminary optimization\n",
        "  steps = step1*np.ones(nsteps)\n",
        "  est1 = gap_operators(steps, m0, J, h,hz, Nqubits)\n",
        "\n",
        "  # step2 = 0.001      #Small time step for gap extraction.\n",
        "  steps2 = np.append(steps, step2)\n",
        "  est2 = gap_operators(steps2, m0, J, h,hz, Nqubits)\n",
        "\n",
        "  gap2 = -np.log(np.abs(est2/est1))/step2\n",
        "  gaps.append(gap2)\n",
        "\n",
        "  print(f\"Step is {step2}\")\n",
        "  print(f\"The gap estimation is {gap2}\")\n",
        "  # print(f\"Exact energy gap is: {d[1] -d[0]}\")\n",
        "  print(f\"The error is: {100*(d[1] -d[0]-gap2)/gap2} %\")"
      ],
      "metadata": {
        "id": "Z1fhWiU5qgnw",
        "colab": {
          "base_uri": "https://localhost:8080/"
        },
        "outputId": "9a3af6e5-60e0-4ec0-9f31-c3ce96fd7749"
      },
      "execution_count": null,
      "outputs": [
        {
          "output_type": "stream",
          "name": "stdout",
          "text": [
            "Step is 0.001\n",
            "The gap estimation is 1.2579223394792978\n",
            "The error is: 2.062263347830973 %\n",
            "Step is 0.003111111111111111\n",
            "The gap estimation is 1.231682115519035\n",
            "The error is: 4.236636600794732 %\n",
            "Step is 0.005222222222222222\n",
            "The gap estimation is 1.2058337819242124\n",
            "The error is: 6.47106011425786 %\n",
            "Step is 0.007333333333333333\n",
            "The gap estimation is 1.1803634972276613\n",
            "The error is: 8.768528834209905 %\n",
            "Step is 0.009444444444444443\n",
            "The gap estimation is 1.1552579572424262\n",
            "The error is: 11.132236984985646 %\n",
            "Step is 0.011555555555555555\n",
            "The gap estimation is 1.1305043667884274\n",
            "The error is: 13.565595016479133 %\n",
            "Step is 0.013666666666666667\n",
            "The gap estimation is 1.106090413130905\n",
            "The error is: 16.07224830712033 %\n",
            "Step is 0.015777777777777776\n",
            "The gap estimation is 1.0820042410064032\n",
            "The error is: 18.65609783898799 %\n",
            "Step is 0.017888888888888888\n",
            "The gap estimation is 1.0582344291279793\n",
            "The error is: 21.321323091756174 %\n",
            "Step is 0.02\n",
            "The gap estimation is 1.0347699680611349\n",
            "The error is: 24.072407439129094 %\n"
          ]
        }
      ]
    },
    {
      "cell_type": "markdown",
      "source": [
        "Finally we plot the estimated gap against the Trotter step:(Figure 5)"
      ],
      "metadata": {
        "id": "82UwpjjLrFwN"
      }
    },
    {
      "cell_type": "code",
      "source": [
        "plt.plot(np.linspace(0.001, 0.02, 10), gaps, 'ro')\n",
        "slope, intercept = np.linalg.lstsq(np.vstack([np.linspace(0.001, 0.02, 10), np.ones(10)]).T, gaps, rcond=None)[0]\n",
        "\n",
        "plt.plot(np.linspace(0.0, 0.02, 100), slope*np.linspace(0.0, 0.02, 100)+intercept, 'k')\n",
        "plt.xlim(-0.0001, 0.021)\n",
        "plt.xlabel(\"dt\")\n",
        "plt.ylabel(r\"$\\Delta$\")\n",
        "\n",
        "plt.plot([0.0], [d[1]-d[0]], 'bs')\n",
        "plt.savefig(\"Gap_fit.pdf\")\n"
      ],
      "metadata": {
        "colab": {
          "base_uri": "https://localhost:8080/",
          "height": 449
        },
        "id": "7zSO6yEg19-N",
        "outputId": "94b92a76-5d1a-4a6a-ca02-3385f8d4c95e"
      },
      "execution_count": null,
      "outputs": [
        {
          "output_type": "display_data",
          "data": {
            "text/plain": [
              "<Figure size 640x480 with 1 Axes>"
            ],
            "image/png": "[encoded data removed]"
          },
          "metadata": {}
        }
      ]
    },
    {
      "cell_type": "code",
      "source": [],
      "metadata": {
        "id": "8CojGDlW3Yf4"
      },
      "execution_count": null,
      "outputs": []
    }
  ]
}